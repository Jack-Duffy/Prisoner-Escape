{
 "cells": [
  {
   "cell_type": "raw",
   "metadata": {
    "vscode": {
     "languageId": "raw"
    }
   },
   "source": [
    "---\n",
    "layout: post\n",
    "title: RPG Ideation\n",
    "description:  Blog With our RPG ideation\n",
    "permalink: /nbjupyter\n",
    "---"
   ]
  },
  {
   "cell_type": "markdown",
   "metadata": {},
   "source": [
    "# Ideas for RPG Game\n",
    "Game Idea\n",
    "\n",
    "\n",
    "The player (computer) will start in a world in DNHS and will move to diffrent places of the campus\n",
    "\n",
    "# NPCS\n",
    "There will be a multiple NPCs in our games\n",
    "\n",
    "Mr. Piraty Mortensen\n",
    "Mr. Mortensen disguised in a pirate is a one of the NPCS and he is supposed to provide the information about your special quest\n"
   ]
  },
  {
   "cell_type": "markdown",
   "metadata": {},
   "source": [
    "# Main Idea\n",
    "Jack and I decided on our level to be a prison escape. We want this level to be interactive and ask questions. When they interact with the other prisoners they will be given clues after answering questions correctly. After answering all the questions they will be able to solve the riddle/puzzle, and be able to successfully escape the prison. \n",
    "\n",
    "# Background\n",
    "We decided upon this background Below. This background will allow us to have the player interact with npcs in the jail cells. \n",
    "\n",
    "# Other possible ideas\n",
    "\n",
    "We may want to implement a timer or countdown to add more pressure and make the game more intertaning. "
   ]
  },
  {
   "cell_type": "markdown",
   "metadata": {},
   "source": []
  }
 ],
 "metadata": {
  "language_info": {
   "name": "python"
  }
 },
 "nbformat": 4,
 "nbformat_minor": 2
}
