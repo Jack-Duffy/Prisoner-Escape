{
 "cells": [
  {
   "cell_type": "raw",
   "metadata": {
    "vscode": {
     "languageId": "raw"
    }
   },
   "source": [
    "---\n",
    "layout: post\n",
    "title: RPG Ideation\n",
    "description:  Blog With our RPG ideation\n",
    "permalink: /nbjupyter\n",
    "---"
   ]
  },
  {
   "cell_type": "markdown",
   "metadata": {},
   "source": [
    "# Main Idea\n",
    "Jack and I decided on our level to be a prison escape. We want this level to be interactive and ask questions. When they interact with the other prisoners they will be given clues after answering questions correctly. After answering all the questions they will be able to solve the riddle/puzzle, and be able to successfully escape the prison. \n",
    "\n",
    "# NPCS\n",
    "There will be a multiple NPCs in our games, some that will be more stuborn than others.\n",
    "\n",
    "## Cop\n",
    "<img src=\"/assets/js/adventureGame/Screenshot 2025-02-11 at 12.25.09 PM.png width='200\"/>\n",
    "\n",
    "## Prisoner\n",
    "<img src=\"/assets/js/adventureGame/Screenshot 2025-02-11 at 12.25.14 PM.png width='200\"/>\n",
    "\n",
    "## MC\n",
    "<img src=\"/assets/js/adventureGame/Screenshot 2025-02-11 at 12.25.03 PM.png width='200\"/>\n"
   ]
  },
  {
   "cell_type": "markdown",
   "metadata": {},
   "source": [
    "# Background\n",
    "We decided upon this background Below. This background will allow us to have the player interact with npcs in the jail cells. \n",
    "<img src=\"assets/js/adventureGame/GameLeverPrisonEscape.js width='200\"/>\n",
    "# Other possible ideas\n",
    "\n",
    "\n",
    "We may want to implement a timer or countdown to add more pressure and make the game more intertaning. \n",
    "\n"
   ]
  },
  {
   "cell_type": "markdown",
   "metadata": {},
   "source": []
  },
  {
   "cell_type": "markdown",
   "metadata": {
    "vscode": {
     "languageId": "raw"
    }
   },
   "source": [
    "\n",
    "# Ideations\n",
    "<img src=\"/assets/js/adventureGame/Screenshot.png width='200\"/>\n",
    "We plan on making a collison border around the npc jail inmates. We need to set the border around the prison cells so the charters do not run off the maps."
   ]
  }
 ],
 "metadata": {
  "language_info": {
   "name": "python"
  }
 },
 "nbformat": 4,
 "nbformat_minor": 2
}
