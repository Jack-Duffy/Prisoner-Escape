{
 "cells": [
  {
   "cell_type": "raw",
   "metadata": {
    "vscode": {
     "languageId": "raw"
    }
   },
   "source": [
    "---\n",
    "layout: post\n",
    "title: RPG Ideation\n",
    "description:  Blog With our RPG ideation\n",
    "permalink: /nbjupyter\n",
    "---"
   ]
  },
  {
   "cell_type": "markdown",
   "metadata": {},
   "source": [
    "# Ideas for RPG Game\n",
    "Game Idea\n",
    "\n",
    "\n",
    "The player (computer) will start in a world in DNHS and will move to diffrent places of the campus\n",
    "\n",
    "# NPCS\n",
    "There will be a multiple NPCs in our games\n",
    "\n",
    "Mr. Piraty Mortensen\n",
    "Mr. Mortensen disguised in a pirate is a one of the NPCS and he is supposed to provide the information about your special quest\n"
   ]
  },
  {
   "cell_type": "markdown",
   "metadata": {},
   "source": [
    "# Quests\n",
    "Our primary quest and goal of this game is to finish our main project which is making some cool video games such as snake game, tic tac toe, and etc.\n",
    "\n",
    "# Background\n",
    "This is the picture of our background which is a tropical island\n"
   ]
  }
 ],
 "metadata": {
  "language_info": {
   "name": "python"
  }
 },
 "nbformat": 4,
 "nbformat_minor": 2
}
